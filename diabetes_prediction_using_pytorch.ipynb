{
  "nbformat": 4,
  "nbformat_minor": 0,
  "metadata": {
    "colab": {
      "name": "diabetes prediction using pytorch.ipynb",
      "provenance": [],
      "collapsed_sections": []
    },
    "kernelspec": {
      "name": "python3",
      "display_name": "Python 3"
    }
  },
  "cells": [
    {
      "cell_type": "code",
      "metadata": {
        "id": "wwE1Rj2GTgQ4",
        "outputId": "22a8fcf1-3ee2-4932-84ae-24f27036fc1a",
        "colab": {
          "base_uri": "https://localhost:8080/",
          "height": 323
        }
      },
      "source": [
        "pip install torch==1.6.0+cpu torchvision==0.7.0+cpu -f https://download.pytorch.org/whl/torch_stable.html"
      ],
      "execution_count": 1,
      "outputs": [
        {
          "output_type": "stream",
          "text": [
            "Looking in links: https://download.pytorch.org/whl/torch_stable.html\n",
            "Collecting torch==1.6.0+cpu\n",
            "\u001b[?25l  Downloading https://download.pytorch.org/whl/cpu/torch-1.6.0%2Bcpu-cp36-cp36m-linux_x86_64.whl (154.6MB)\n",
            "\u001b[K     |████████████████████████████████| 154.6MB 36kB/s \n",
            "\u001b[?25hCollecting torchvision==0.7.0+cpu\n",
            "\u001b[?25l  Downloading https://download.pytorch.org/whl/cpu/torchvision-0.7.0%2Bcpu-cp36-cp36m-linux_x86_64.whl (5.1MB)\n",
            "\u001b[K     |████████████████████████████████| 5.1MB 2.0MB/s \n",
            "\u001b[?25hRequirement already satisfied: future in /usr/local/lib/python3.6/dist-packages (from torch==1.6.0+cpu) (0.16.0)\n",
            "Requirement already satisfied: numpy in /usr/local/lib/python3.6/dist-packages (from torch==1.6.0+cpu) (1.18.5)\n",
            "Requirement already satisfied: pillow>=4.1.1 in /usr/local/lib/python3.6/dist-packages (from torchvision==0.7.0+cpu) (7.0.0)\n",
            "Installing collected packages: torch, torchvision\n",
            "  Found existing installation: torch 1.6.0+cu101\n",
            "    Uninstalling torch-1.6.0+cu101:\n",
            "      Successfully uninstalled torch-1.6.0+cu101\n",
            "  Found existing installation: torchvision 0.7.0+cu101\n",
            "    Uninstalling torchvision-0.7.0+cu101:\n",
            "      Successfully uninstalled torchvision-0.7.0+cu101\n",
            "Successfully installed torch-1.6.0+cpu torchvision-0.7.0+cpu\n"
          ],
          "name": "stdout"
        }
      ]
    },
    {
      "cell_type": "code",
      "metadata": {
        "id": "Z90HKCv_UJWP",
        "outputId": "ac60228a-ec9b-4dc6-a6c8-534d67e35d82",
        "colab": {
          "base_uri": "https://localhost:8080/",
          "height": 204
        }
      },
      "source": [
        "import pandas as pd\n",
        "df= pd.read_csv(\"diabetes.csv\")\n",
        "df.head()"
      ],
      "execution_count": 3,
      "outputs": [
        {
          "output_type": "execute_result",
          "data": {
            "text/html": [
              "<div>\n",
              "<style scoped>\n",
              "    .dataframe tbody tr th:only-of-type {\n",
              "        vertical-align: middle;\n",
              "    }\n",
              "\n",
              "    .dataframe tbody tr th {\n",
              "        vertical-align: top;\n",
              "    }\n",
              "\n",
              "    .dataframe thead th {\n",
              "        text-align: right;\n",
              "    }\n",
              "</style>\n",
              "<table border=\"1\" class=\"dataframe\">\n",
              "  <thead>\n",
              "    <tr style=\"text-align: right;\">\n",
              "      <th></th>\n",
              "      <th>Pregnancies</th>\n",
              "      <th>Glucose</th>\n",
              "      <th>BloodPressure</th>\n",
              "      <th>SkinThickness</th>\n",
              "      <th>Insulin</th>\n",
              "      <th>BMI</th>\n",
              "      <th>DiabetesPedigreeFunction</th>\n",
              "      <th>Age</th>\n",
              "      <th>Outcome</th>\n",
              "    </tr>\n",
              "  </thead>\n",
              "  <tbody>\n",
              "    <tr>\n",
              "      <th>0</th>\n",
              "      <td>6</td>\n",
              "      <td>148</td>\n",
              "      <td>72</td>\n",
              "      <td>35</td>\n",
              "      <td>0</td>\n",
              "      <td>33.6</td>\n",
              "      <td>0.627</td>\n",
              "      <td>50</td>\n",
              "      <td>1</td>\n",
              "    </tr>\n",
              "    <tr>\n",
              "      <th>1</th>\n",
              "      <td>1</td>\n",
              "      <td>85</td>\n",
              "      <td>66</td>\n",
              "      <td>29</td>\n",
              "      <td>0</td>\n",
              "      <td>26.6</td>\n",
              "      <td>0.351</td>\n",
              "      <td>31</td>\n",
              "      <td>0</td>\n",
              "    </tr>\n",
              "    <tr>\n",
              "      <th>2</th>\n",
              "      <td>8</td>\n",
              "      <td>183</td>\n",
              "      <td>64</td>\n",
              "      <td>0</td>\n",
              "      <td>0</td>\n",
              "      <td>23.3</td>\n",
              "      <td>0.672</td>\n",
              "      <td>32</td>\n",
              "      <td>1</td>\n",
              "    </tr>\n",
              "    <tr>\n",
              "      <th>3</th>\n",
              "      <td>1</td>\n",
              "      <td>89</td>\n",
              "      <td>66</td>\n",
              "      <td>23</td>\n",
              "      <td>94</td>\n",
              "      <td>28.1</td>\n",
              "      <td>0.167</td>\n",
              "      <td>21</td>\n",
              "      <td>0</td>\n",
              "    </tr>\n",
              "    <tr>\n",
              "      <th>4</th>\n",
              "      <td>0</td>\n",
              "      <td>137</td>\n",
              "      <td>40</td>\n",
              "      <td>35</td>\n",
              "      <td>168</td>\n",
              "      <td>43.1</td>\n",
              "      <td>2.288</td>\n",
              "      <td>33</td>\n",
              "      <td>1</td>\n",
              "    </tr>\n",
              "  </tbody>\n",
              "</table>\n",
              "</div>"
            ],
            "text/plain": [
              "   Pregnancies  Glucose  BloodPressure  ...  DiabetesPedigreeFunction  Age  Outcome\n",
              "0            6      148             72  ...                     0.627   50        1\n",
              "1            1       85             66  ...                     0.351   31        0\n",
              "2            8      183             64  ...                     0.672   32        1\n",
              "3            1       89             66  ...                     0.167   21        0\n",
              "4            0      137             40  ...                     2.288   33        1\n",
              "\n",
              "[5 rows x 9 columns]"
            ]
          },
          "metadata": {
            "tags": []
          },
          "execution_count": 3
        }
      ]
    },
    {
      "cell_type": "code",
      "metadata": {
        "id": "kXPE_TJCUJfK",
        "outputId": "4e0e4746-2e6d-4f79-e35d-52d5b5b799e9",
        "colab": {
          "base_uri": "https://localhost:8080/",
          "height": 34
        }
      },
      "source": [
        "df.shape"
      ],
      "execution_count": 4,
      "outputs": [
        {
          "output_type": "execute_result",
          "data": {
            "text/plain": [
              "(768, 9)"
            ]
          },
          "metadata": {
            "tags": []
          },
          "execution_count": 4
        }
      ]
    },
    {
      "cell_type": "code",
      "metadata": {
        "id": "XBQW9KJcUJzc",
        "outputId": "d7334844-96cc-4fe0-800d-b76efd78e827",
        "colab": {
          "base_uri": "https://localhost:8080/",
          "height": 187
        }
      },
      "source": [
        "df.isnull().sum()"
      ],
      "execution_count": 5,
      "outputs": [
        {
          "output_type": "execute_result",
          "data": {
            "text/plain": [
              "Pregnancies                 0\n",
              "Glucose                     0\n",
              "BloodPressure               0\n",
              "SkinThickness               0\n",
              "Insulin                     0\n",
              "BMI                         0\n",
              "DiabetesPedigreeFunction    0\n",
              "Age                         0\n",
              "Outcome                     0\n",
              "dtype: int64"
            ]
          },
          "metadata": {
            "tags": []
          },
          "execution_count": 5
        }
      ]
    },
    {
      "cell_type": "code",
      "metadata": {
        "id": "tFV4iHsHVk2t"
      },
      "source": [
        "X= df.drop(\"Outcome\",axis=1).values\n",
        "y= df[\"Outcome\"].values"
      ],
      "execution_count": 6,
      "outputs": []
    },
    {
      "cell_type": "code",
      "metadata": {
        "id": "JZ3cdnEYVk8G"
      },
      "source": [
        "from sklearn.model_selection import train_test_split\n",
        "X_train,X_test,y_train,y_test= train_test_split(X,y,test_size=0.2,random_state=0)"
      ],
      "execution_count": 9,
      "outputs": []
    },
    {
      "cell_type": "code",
      "metadata": {
        "id": "JXqR6FCCWRZf"
      },
      "source": [
        "import torch\n",
        "import torch.nn as nn\n",
        "import torch.nn.functional as F"
      ],
      "execution_count": 8,
      "outputs": []
    },
    {
      "cell_type": "code",
      "metadata": {
        "id": "QxPvadyKWRfc"
      },
      "source": [
        "X_train=torch.FloatTensor(X_train)\n",
        "X_test=torch.FloatTensor(X_test)\n",
        "y_train=torch.LongTensor(y_train)\n",
        "y_test=torch.LongTensor(y_test)"
      ],
      "execution_count": 10,
      "outputs": []
    },
    {
      "cell_type": "code",
      "metadata": {
        "id": "JYEr1ar2WRsp"
      },
      "source": [
        "class ANN_Model(nn.Module):\n",
        "  def __init__(self, input_features=8, hidden1=20, hidden2=20, out_features= 2):\n",
        "    super().__init__()\n",
        "    self.f_connected1=nn.Linear(input_features,hidden1)\n",
        "    self.f_connected2=nn.Linear(hidden1,hidden2)\n",
        "    self.out=nn.Linear(hidden2, out_features)\n",
        "  def forward(self, x):\n",
        "    x=F.relu(self.f_connected1(x))\n",
        "    x=F.relu(self.f_connected2(x))\n",
        "    x=self.out(x)\n",
        "    return x"
      ],
      "execution_count": 17,
      "outputs": []
    },
    {
      "cell_type": "code",
      "metadata": {
        "id": "OZc5bUe0XtTS"
      },
      "source": [
        "torch.manual_seed(20)\n",
        "model=ANN_Model()"
      ],
      "execution_count": 18,
      "outputs": []
    },
    {
      "cell_type": "code",
      "metadata": {
        "id": "MToewD3baxjZ",
        "outputId": "30bf3693-4222-4633-ad41-a662bf412a7e",
        "colab": {
          "base_uri": "https://localhost:8080/",
          "height": 102
        }
      },
      "source": [
        "model.parameters"
      ],
      "execution_count": 19,
      "outputs": [
        {
          "output_type": "execute_result",
          "data": {
            "text/plain": [
              "<bound method Module.parameters of ANN_Model(\n",
              "  (f_connected1): Linear(in_features=8, out_features=20, bias=True)\n",
              "  (f_connected2): Linear(in_features=20, out_features=20, bias=True)\n",
              "  (out): Linear(in_features=20, out_features=2, bias=True)\n",
              ")>"
            ]
          },
          "metadata": {
            "tags": []
          },
          "execution_count": 19
        }
      ]
    },
    {
      "cell_type": "code",
      "metadata": {
        "id": "dy23KyKmbpho"
      },
      "source": [
        "loss_function=nn.CrossEntropyLoss()\n",
        "optimizer=torch.optim.Adam(model.parameters(),lr=0.01)"
      ],
      "execution_count": 20,
      "outputs": []
    },
    {
      "cell_type": "code",
      "metadata": {
        "id": "T46Vmq21ax0R",
        "outputId": "ec6b1701-e2f0-45dc-d6b0-8b566cce92dd",
        "colab": {
          "base_uri": "https://localhost:8080/",
          "height": 867
        }
      },
      "source": [
        "epochs=500\n",
        "final_losses=[]\n",
        "for i in range(epochs):\n",
        "  i=i+1\n",
        "  y_pred=model.forward(X_train)\n",
        "  loss=loss_function(y_pred,y_train)\n",
        "  final_losses.append(loss)\n",
        "  if i%10==1:\n",
        "    print(\"Epoch number: {} and the loss: {}\".format(i,loss.item()))\n",
        "  optimizer.zero_grad()\n",
        "  loss.backward()\n",
        "  optimizer.step()"
      ],
      "execution_count": 21,
      "outputs": [
        {
          "output_type": "stream",
          "text": [
            "Epoch number: 1 and the loss: 3.45721173286438\n",
            "Epoch number: 11 and the loss: 0.8019213080406189\n",
            "Epoch number: 21 and the loss: 0.6090323328971863\n",
            "Epoch number: 31 and the loss: 0.591776967048645\n",
            "Epoch number: 41 and the loss: 0.5679706335067749\n",
            "Epoch number: 51 and the loss: 0.552903950214386\n",
            "Epoch number: 61 and the loss: 0.5410096049308777\n",
            "Epoch number: 71 and the loss: 0.5310391783714294\n",
            "Epoch number: 81 and the loss: 0.5220361351966858\n",
            "Epoch number: 91 and the loss: 0.5135970115661621\n",
            "Epoch number: 101 and the loss: 0.5061253309249878\n",
            "Epoch number: 111 and the loss: 0.4983411729335785\n",
            "Epoch number: 121 and the loss: 0.49605482816696167\n",
            "Epoch number: 131 and the loss: 0.48286372423171997\n",
            "Epoch number: 141 and the loss: 0.4756038188934326\n",
            "Epoch number: 151 and the loss: 0.479922354221344\n",
            "Epoch number: 161 and the loss: 0.4793105721473694\n",
            "Epoch number: 171 and the loss: 0.46500328183174133\n",
            "Epoch number: 181 and the loss: 0.4582153260707855\n",
            "Epoch number: 191 and the loss: 0.4527052640914917\n",
            "Epoch number: 201 and the loss: 0.44579818844795227\n",
            "Epoch number: 211 and the loss: 0.4402463436126709\n",
            "Epoch number: 221 and the loss: 0.43657076358795166\n",
            "Epoch number: 231 and the loss: 0.4308931827545166\n",
            "Epoch number: 241 and the loss: 0.42630547285079956\n",
            "Epoch number: 251 and the loss: 0.42125967144966125\n",
            "Epoch number: 261 and the loss: 0.46443653106689453\n",
            "Epoch number: 271 and the loss: 0.4411291480064392\n",
            "Epoch number: 281 and the loss: 0.4206233322620392\n",
            "Epoch number: 291 and the loss: 0.4131235182285309\n",
            "Epoch number: 301 and the loss: 0.4038231670856476\n",
            "Epoch number: 311 and the loss: 0.3999273478984833\n",
            "Epoch number: 321 and the loss: 0.4158118963241577\n",
            "Epoch number: 331 and the loss: 0.39121872186660767\n",
            "Epoch number: 341 and the loss: 0.3867964744567871\n",
            "Epoch number: 351 and the loss: 0.4482516348361969\n",
            "Epoch number: 361 and the loss: 0.43391484022140503\n",
            "Epoch number: 371 and the loss: 0.39029791951179504\n",
            "Epoch number: 381 and the loss: 0.38491788506507874\n",
            "Epoch number: 391 and the loss: 0.37468042969703674\n",
            "Epoch number: 401 and the loss: 0.37087467312812805\n",
            "Epoch number: 411 and the loss: 0.3793392479419708\n",
            "Epoch number: 421 and the loss: 0.3969915807247162\n",
            "Epoch number: 431 and the loss: 0.36906421184539795\n",
            "Epoch number: 441 and the loss: 0.37404170632362366\n",
            "Epoch number: 451 and the loss: 0.3624356985092163\n",
            "Epoch number: 461 and the loss: 0.35938000679016113\n",
            "Epoch number: 471 and the loss: 0.36117541790008545\n",
            "Epoch number: 481 and the loss: 0.3532314598560333\n",
            "Epoch number: 491 and the loss: 0.36998024582862854\n"
          ],
          "name": "stdout"
        }
      ]
    },
    {
      "cell_type": "code",
      "metadata": {
        "id": "038hUJjQXtaD"
      },
      "source": [
        "import matplotlib.pyplot as plt\n",
        "%matplotlib inline"
      ],
      "execution_count": 22,
      "outputs": []
    },
    {
      "cell_type": "code",
      "metadata": {
        "id": "xd_MInrPdm0d",
        "outputId": "6814cf92-71c6-4f6e-ff70-2acc5d4c3e33",
        "colab": {
          "base_uri": "https://localhost:8080/",
          "height": 296
        }
      },
      "source": [
        "plt.plot(range(epochs),final_losses)\n",
        "plt.ylabel('Loss')\n",
        "plt.xlabel('Epoch')"
      ],
      "execution_count": 23,
      "outputs": [
        {
          "output_type": "execute_result",
          "data": {
            "text/plain": [
              "Text(0.5, 0, 'Epoch')"
            ]
          },
          "metadata": {
            "tags": []
          },
          "execution_count": 23
        },
        {
          "output_type": "display_data",
          "data": {
            "image/png": "[encoded data removed]",
            "text/plain": [
              "<Figure size 432x288 with 1 Axes>"
            ]
          },
          "metadata": {
            "tags": [],
            "needs_background": "light"
          }
        }
      ]
    },
    {
      "cell_type": "code",
      "metadata": {
        "id": "p4BxXipLd2ws"
      },
      "source": [
        "#### Prediction In X_test data\n",
        "predictions=[]\n",
        "with torch.no_grad():\n",
        "    for i,data in enumerate(X_test):\n",
        "        y_pred=model(data)\n",
        "        predictions.append(y_pred.argmax().item())\n",
        "        #print(y_pred.argmax().item())"
      ],
      "execution_count": 26,
      "outputs": []
    },
    {
      "cell_type": "code",
      "metadata": {
        "id": "CAApuRZJd27V",
        "outputId": "1c32cc65-b2ff-4dda-d59b-3d71088a8bd5",
        "colab": {
          "base_uri": "https://localhost:8080/",
          "height": 51
        }
      },
      "source": [
        "from sklearn.metrics import confusion_matrix\n",
        "cm=confusion_matrix(y_test,predictions)\n",
        "cm"
      ],
      "execution_count": 27,
      "outputs": [
        {
          "output_type": "execute_result",
          "data": {
            "text/plain": [
              "array([[83, 24],\n",
              "       [13, 34]])"
            ]
          },
          "metadata": {
            "tags": []
          },
          "execution_count": 27
        }
      ]
    },
    {
      "cell_type": "code",
      "metadata": {
        "id": "yfoypcoReQTJ",
        "outputId": "ed662a4b-16f5-410c-98cf-0ad2d9a15e86",
        "colab": {
          "base_uri": "https://localhost:8080/",
          "height": 405
        }
      },
      "source": [
        "import seaborn as sns\n",
        "plt.figure(figsize=(10,6))\n",
        "sns.heatmap(cm,annot=True)\n",
        "plt.xlabel('Actual Values')\n",
        "plt.ylabel('Predicted Values')"
      ],
      "execution_count": 29,
      "outputs": [
        {
          "output_type": "execute_result",
          "data": {
            "text/plain": [
              "Text(69.0, 0.5, 'Predicted Values')"
            ]
          },
          "metadata": {
            "tags": []
          },
          "execution_count": 29
        },
        {
          "output_type": "display_data",
          "data": {
            "image/png": "[encoded data removed]",
            "text/plain": [
              "<Figure size 720x432 with 2 Axes>"
            ]
          },
          "metadata": {
            "tags": [],
            "needs_background": "light"
          }
        }
      ]
    },
    {
      "cell_type": "code",
      "metadata": {
        "id": "TuDBD5b3ebhY",
        "outputId": "66f38958-6616-46a1-e146-0cd3e03c5dfd",
        "colab": {
          "base_uri": "https://localhost:8080/",
          "height": 34
        }
      },
      "source": [
        "from sklearn.metrics import accuracy_score\n",
        "score=accuracy_score(y_test,predictions)\n",
        "score"
      ],
      "execution_count": 30,
      "outputs": [
        {
          "output_type": "execute_result",
          "data": {
            "text/plain": [
              "0.7597402597402597"
            ]
          },
          "metadata": {
            "tags": []
          },
          "execution_count": 30
        }
      ]
    },
    {
      "cell_type": "code",
      "metadata": {
        "id": "LDZj-rCiehrp"
      },
      "source": [
        "#### Save the model\n",
        "torch.save(model,'diabetes.pt')"
      ],
      "execution_count": 31,
      "outputs": []
    },
    {
      "cell_type": "code",
      "metadata": {
        "id": "QmOSzRDaeh6P"
      },
      "source": [
        "#### Save And Load the model\n",
        "model=torch.load('diabetes.pt')"
      ],
      "execution_count": 32,
      "outputs": []
    },
    {
      "cell_type": "code",
      "metadata": {
        "id": "Gp7Ze--Ces6T",
        "outputId": "2ce6fa49-b074-40d6-f470-0252ac9986c8",
        "colab": {
          "base_uri": "https://localhost:8080/",
          "height": 102
        }
      },
      "source": [
        "model.eval()"
      ],
      "execution_count": 33,
      "outputs": [
        {
          "output_type": "execute_result",
          "data": {
            "text/plain": [
              "ANN_Model(\n",
              "  (f_connected1): Linear(in_features=8, out_features=20, bias=True)\n",
              "  (f_connected2): Linear(in_features=20, out_features=20, bias=True)\n",
              "  (out): Linear(in_features=20, out_features=2, bias=True)\n",
              ")"
            ]
          },
          "metadata": {
            "tags": []
          },
          "execution_count": 33
        }
      ]
    },
    {
      "cell_type": "code",
      "metadata": {
        "id": "yZcc5FqdetJf",
        "outputId": "04c3f2da-7509-4f68-d335-f71befb4e968",
        "colab": {
          "base_uri": "https://localhost:8080/",
          "height": 34
        }
      },
      "source": [
        "### Predcition of new data point\n",
        "list(df.iloc[0,:-1])"
      ],
      "execution_count": 34,
      "outputs": [
        {
          "output_type": "execute_result",
          "data": {
            "text/plain": [
              "[6.0, 148.0, 72.0, 35.0, 0.0, 33.6, 0.627, 50.0]"
            ]
          },
          "metadata": {
            "tags": []
          },
          "execution_count": 34
        }
      ]
    },
    {
      "cell_type": "code",
      "metadata": {
        "id": "k-qhmSCLfRcQ"
      },
      "source": [
        "#### New Data\n",
        "lst1=[6.0, 130.0, 72.0, 40.0, 0.0, 25.6, 0.627, 45.0]"
      ],
      "execution_count": 35,
      "outputs": []
    },
    {
      "cell_type": "code",
      "metadata": {
        "id": "i0qjfONrfRoj"
      },
      "source": [
        "new_data=torch.tensor(lst1)"
      ],
      "execution_count": 36,
      "outputs": []
    },
    {
      "cell_type": "code",
      "metadata": {
        "id": "V8GfxrqofimF",
        "outputId": "776d8a6b-6ce7-4de9-ece7-dc4882c145ae",
        "colab": {
          "base_uri": "https://localhost:8080/",
          "height": 51
        }
      },
      "source": [
        "#### Predict new data using Pytorch\n",
        "with torch.no_grad():\n",
        "    print(model(new_data))\n",
        "    print(model(new_data).argmax().item())"
      ],
      "execution_count": 37,
      "outputs": [
        {
          "output_type": "stream",
          "text": [
            "tensor([0.9544, 1.4786])\n",
            "1\n"
          ],
          "name": "stdout"
        }
      ]
    },
    {
      "cell_type": "code",
      "metadata": {
        "id": "hPsBp8PZfiiu"
      },
      "source": [
        ""
      ],
      "execution_count": null,
      "outputs": []
    }
  ]
}